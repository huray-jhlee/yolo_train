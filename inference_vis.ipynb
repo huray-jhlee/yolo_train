{
 "cells": [
  {
   "cell_type": "code",
   "execution_count": 1,
   "metadata": {},
   "outputs": [],
   "source": [
    "import os\n",
    "import cv2\n",
    "import matplotlib.pyplot as plt\n",
    "\n",
    "from glob import glob\n",
    "from tqdm import tqdm\n"
   ]
  },
  {
   "cell_type": "code",
   "execution_count": 2,
   "metadata": {},
   "outputs": [
    {
     "data": {
      "text/plain": [
       "['/home/ai04/jh/codes/yolo_train/test/10_prev_exp7-large/worst_inference/val-exp7-large_best',\n",
       " '/home/ai04/jh/codes/yolo_train/test/10_prev_exp7-large/worst_inference/val-prev_best']"
      ]
     },
     "execution_count": 2,
     "metadata": {},
     "output_type": "execute_result"
    }
   ],
   "source": [
    "inf_dirs = glob(\"/home/ai04/jh/codes/yolo_train/test/10_prev_exp7-large/worst_inference/*\")\n",
    "inf_dirs.sort()\n",
    "inf_dirs"
   ]
  },
  {
   "cell_type": "code",
   "execution_count": 3,
   "metadata": {},
   "outputs": [],
   "source": [
    "data_dict = {}\n",
    "for inf_dir in inf_dirs:\n",
    "    model = inf_dir.split(\"/\")[-1].split(\"-\")[-1]\n",
    "    img_paths = glob(os.path.join(inf_dir, \"images\", \"*.jpg\"))\n",
    "    img_paths = sorted(img_paths)\n",
    "    data_dict[model] = img_paths"
   ]
  },
  {
   "cell_type": "code",
   "execution_count": 4,
   "metadata": {},
   "outputs": [
    {
     "data": {
      "text/plain": [
       "dict_keys(['large_best', 'prev_best'])"
      ]
     },
     "execution_count": 4,
     "metadata": {},
     "output_type": "execute_result"
    }
   ],
   "source": [
    "data_dict.keys()"
   ]
  },
  {
   "cell_type": "code",
   "execution_count": 5,
   "metadata": {},
   "outputs": [],
   "source": [
    "prev_epoch11_epoch29 = list(zip(data_dict['large_best'], data_dict['prev_best']))\n"
   ]
  },
  {
   "cell_type": "code",
   "execution_count": 6,
   "metadata": {},
   "outputs": [],
   "source": [
    "def open_img(path):\n",
    "    img = cv2.imread(path)\n",
    "    img = cv2.cvtColor(img, cv2.COLOR_BGR2RGB)\n",
    "    return img"
   ]
  },
  {
   "cell_type": "code",
   "execution_count": 7,
   "metadata": {},
   "outputs": [],
   "source": [
    "# # figure 크기 설정\n",
    "# plt.figure(figsize=(20, 50))  # 가로로 넓게 설정\n",
    "\n",
    "# # 첫 번째 50개 이미지를 왼쪽에 배치\n",
    "# for i, p_11_29 in enumerate(prev_epoch11_epoch29[:50]):\n",
    "#     prev, epoch11, epoch29, epoch49 = [open_img(x) for x in p_11_29]\n",
    "\n",
    "#     # 왼쪽 단락: 1~3열\n",
    "#     plt.subplot(50, 9, 9 * i + 1)\n",
    "#     plt.imshow(prev)\n",
    "#     plt.axis('off')\n",
    "#     if i == 0:\n",
    "#         plt.title(\"prev_best\")\n",
    "\n",
    "#     plt.subplot(50, 9, 9 * i + 2)\n",
    "#     plt.imshow(epoch11)\n",
    "#     plt.axis('off')\n",
    "#     if i == 0:\n",
    "#         plt.title(\"new_epoch11\")\n",
    "\n",
    "#     plt.subplot(50, 9, 9 * i + 3)\n",
    "#     plt.imshow(epoch29)\n",
    "#     plt.axis('off')\n",
    "#     if i == 0:\n",
    "#         plt.title(\"new_epoch29\")\n",
    "    \n",
    "#     plt.subplot(50, 9, 9 * i + 4)\n",
    "#     plt.imshow(epoch49)\n",
    "#     plt.axis('off')\n",
    "#     if i == 0:\n",
    "#         plt.title(\"new_epoch49\")\n",
    "\n",
    "# # 나머지 50개 이미지를 오른쪽에 배치\n",
    "# for i, p_11_29 in enumerate(prev_epoch11_epoch29[50:]):\n",
    "#     prev, epoch11, epoch29, epoch49 = [open_img(x) for x in p_11_29]\n",
    "\n",
    "#     # 오른쪽 단락: 4~6열\n",
    "#     plt.subplot(50, 9, 9 * i + 6)\n",
    "#     plt.imshow(prev)\n",
    "#     plt.axis('off')\n",
    "#     if i == 0:\n",
    "#         plt.title(\"prev_best\")\n",
    "\n",
    "#     plt.subplot(50, 9, 9 * i + 7)\n",
    "#     plt.imshow(epoch11)\n",
    "#     plt.axis('off')\n",
    "#     if i == 0:\n",
    "#         plt.title(\"new_epoch11\")\n",
    "\n",
    "#     plt.subplot(50, 9, 9 * i + 8)\n",
    "#     plt.imshow(epoch29)\n",
    "#     plt.axis('off')\n",
    "#     if i == 0:\n",
    "#         plt.title(\"new_epoch29\")\n",
    "    \n",
    "#     plt.subplot(50, 9, 9 * i + 9)\n",
    "#     plt.imshow(epoch49)\n",
    "#     plt.axis('off')\n",
    "#     if i == 0:\n",
    "#         plt.title(\"new_epoch49\")\n",
    "\n",
    "# # 이미지 간의 간격을 자동 조절\n",
    "# plt.subplots_adjust(wspace=0.02)  # 좌우 간격만 줄임\n",
    "\n",
    "# # 결과를 파일로 저장\n",
    "# plt.savefig(\"comparison_result_2.png\", dpi=500, bbox_inches='tight')\n",
    "# plt.close()"
   ]
  },
  {
   "cell_type": "code",
   "execution_count": 8,
   "metadata": {},
   "outputs": [
    {
     "name": "stdout",
     "output_type": "stream",
     "text": [
      "5\n"
     ]
    }
   ],
   "source": [
    "# figure 크기 설정\n",
    "plt.figure(figsize=(10, 50))  # 가로로 넓게 설정\n",
    "exp_num = 2\n",
    "col_num = exp_num*2+1\n",
    "print(col_num)\n",
    "result1, result2, result3, result4 = None, None, None, None\n",
    "# 첫 번째 50개 이미지를 왼쪽에 배치\n",
    "for i, p_11_29 in enumerate(prev_epoch11_epoch29[:50]):\n",
    "    result1, result2 = [open_img(x) for x in p_11_29]\n",
    "    # 왼쪽 단락\n",
    "    plt.subplot(50, col_num, col_num * i + 1)\n",
    "    plt.imshow(result1)\n",
    "    plt.axis('off')\n",
    "    if i == 0:\n",
    "        plt.title(\"exp7-large_best\")\n",
    "\n",
    "    plt.subplot(50, col_num, col_num * i + 2)\n",
    "    plt.imshow(result2)\n",
    "    plt.axis('off')\n",
    "    if i == 0:\n",
    "        plt.title(\"prev_best\")\n",
    "\n",
    "    if exp_num >= 3 and result3 is not None:\n",
    "        plt.subplot(50, col_num, col_num * i + 3)\n",
    "        plt.imshow(result3)\n",
    "        plt.axis('off')\n",
    "        if i == 0:\n",
    "            plt.title(\"exp4_best\")\n",
    "    \n",
    "    if exp_num >= 4 and result4 is not None:\n",
    "        plt.subplot(50, col_num, col_num * i + 4)\n",
    "        plt.imshow(result4)\n",
    "        plt.axis('off')\n",
    "        if i == 0:\n",
    "            plt.title(\"exp3_best\")\n",
    "\n",
    "# 나머지 50개 이미지를 오른쪽에 배치\n",
    "for i, p_11_29 in enumerate(prev_epoch11_epoch29[50:]):\n",
    "    result1, result2 = [open_img(x) for x in p_11_29]\n",
    "\n",
    "    # 오른쪽 단락: 4~6열\n",
    "    plt.subplot(50, col_num, col_num * i + (col_num-1))\n",
    "    plt.imshow(result1)\n",
    "    plt.axis('off')\n",
    "    if i == 0:\n",
    "        plt.title(\"exp7-large_best\")\n",
    "\n",
    "    plt.subplot(50, col_num, col_num * i + (col_num))\n",
    "    plt.imshow(result2)\n",
    "    plt.axis('off')\n",
    "    if i == 0:\n",
    "        plt.title(\"prev_best\")\n",
    "\n",
    "    if exp_num >= 3 and result3 is not None:\n",
    "        plt.subplot(50, col_num, col_num * i + (col_num-1))\n",
    "        plt.imshow(result3)\n",
    "        plt.axis('off')\n",
    "        if i == 0:\n",
    "            plt.title(\"exp4_best\")\n",
    "            \n",
    "    if exp_num >= 4 and result4 is not None:\n",
    "        plt.subplot(50, col_num, col_num * i + col_num)\n",
    "        plt.imshow(result4)\n",
    "        plt.axis('off')\n",
    "        if i == 0:\n",
    "            plt.title(\"exp3_best\")\n",
    "\n",
    "# 이미지 간의 간격을 자동 조절\n",
    "plt.subplots_adjust(wspace=0.02)  # 좌우 간격만 줄임\n",
    "\n",
    "# 결과를 파일로 저장\n",
    "plt.savefig(\"comparison_result_worst.png\", dpi=500, bbox_inches='tight')\n",
    "plt.close()"
   ]
  },
  {
   "cell_type": "code",
   "execution_count": null,
   "metadata": {},
   "outputs": [],
   "source": []
  }
 ],
 "metadata": {
  "kernelspec": {
   "display_name": "yolo",
   "language": "python",
   "name": "python3"
  },
  "language_info": {
   "codemirror_mode": {
    "name": "ipython",
    "version": 3
   },
   "file_extension": ".py",
   "mimetype": "text/x-python",
   "name": "python",
   "nbconvert_exporter": "python",
   "pygments_lexer": "ipython3",
   "version": "3.10.14"
  }
 },
 "nbformat": 4,
 "nbformat_minor": 2
}
