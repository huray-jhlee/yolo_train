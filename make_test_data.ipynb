{
 "cells": [
  {
   "cell_type": "code",
   "execution_count": 1,
   "metadata": {},
   "outputs": [],
   "source": [
    "import os\n",
    "import json\n",
    "import pandas as pd\n",
    "\n",
    "from glob import glob\n",
    "from tqdm import tqdm\n",
    "from collections import defaultdict\n",
    "from urllib.parse import urlparse, parse_qs\n"
   ]
  },
  {
   "cell_type": "code",
   "execution_count": 2,
   "metadata": {},
   "outputs": [],
   "source": [
    "img_dir = \"/data3/htd_image20240930/htd_image\""
   ]
  },
  {
   "cell_type": "code",
   "execution_count": 3,
   "metadata": {},
   "outputs": [],
   "source": [
    "df = pd.read_csv(\"/data3/htd_image20240930/csv/input20240930.csv\")"
   ]
  },
  {
   "cell_type": "code",
   "execution_count": 4,
   "metadata": {},
   "outputs": [],
   "source": [
    "df = df[df[\"푸드렌즈 AI 분석 내용\"].notnull()]"
   ]
  },
  {
   "cell_type": "code",
   "execution_count": 5,
   "metadata": {},
   "outputs": [],
   "source": [
    "def get_key(img_url):\n",
    "    # parsed_url = urlparse(img_url)\n",
    "    # query_params = parse_qs(parsed_url.query)\n",
    "    # return query_params.get('key', [None])[0]\n",
    "    key_start = img_url.find(\"key=\")+len('key=')\n",
    "    key = img_url[key_start:]\n",
    "    return key"
   ]
  },
  {
   "cell_type": "code",
   "execution_count": 6,
   "metadata": {},
   "outputs": [],
   "source": [
    "img_paths = glob(os.path.join(img_dir, \"*.jpg\"))\n",
    "img_path_dict = {os.path.basename(path).split(\".\")[0]:path for path in img_paths}"
   ]
  },
  {
   "cell_type": "code",
   "execution_count": 7,
   "metadata": {},
   "outputs": [],
   "source": [
    "import cv2"
   ]
  },
  {
   "cell_type": "code",
   "execution_count": 8,
   "metadata": {},
   "outputs": [],
   "source": [
    "def convert_to_yolo_format(xmin, ymin, xmax, ymax, img_width, img_height):\n",
    "    # 중심 좌표 계산\n",
    "    center_x = (xmin + xmax) / 2.0\n",
    "    center_y = (ymin + ymax) / 2.0\n",
    "    \n",
    "    # 너비와 높이 계산\n",
    "    width = xmax - xmin\n",
    "    height = ymax - ymin\n",
    "    \n",
    "    # 이미지 크기로 정규화\n",
    "    center_x /= img_width\n",
    "    center_y /= img_height\n",
    "    width /= img_width\n",
    "    height /= img_height\n",
    "    \n",
    "    return [center_x, center_y, width, height]"
   ]
  },
  {
   "cell_type": "code",
   "execution_count": null,
   "metadata": {},
   "outputs": [
    {
     "name": "stderr",
     "output_type": "stream",
     "text": [
      "  0%|          | 0/70643 [00:00<?, ?it/s]"
     ]
    },
    {
     "name": "stderr",
     "output_type": "stream",
     "text": [
      "  5%|▌         | 3741/70643 [18:43<2:57:32,  6.28it/s]  "
     ]
    }
   ],
   "source": [
    "data_dict = {}\n",
    "\n",
    "for _, row in tqdm(df.iterrows(), total=len(df)):\n",
    "    img_url = row[\"음식 사진 URL\"]\n",
    "    img_key = get_key(img_url)\n",
    "    if img_key not in img_path_dict:\n",
    "        continue\n",
    "    img_path = img_path_dict[img_key]\n",
    "    # print(img_path)\n",
    "    img = cv2.imread(img_path)\n",
    "    height, width, _ = img.shape\n",
    "    \n",
    "    results = row[\"푸드렌즈 AI 분석 내용\"]\n",
    "    converted_result_dict = json.loads(results.replace(\"'\", '\"'))\n",
    "    \n",
    "    yolo_labels = []\n",
    "    \n",
    "    for inner_value in converted_result_dict[\"foodPositionList\"]:\n",
    "        # get bbox data\n",
    "        image_position = inner_value[\"imagePosition\"]\n",
    "        bbox = [image_position[\"xmin\"], image_position[\"ymin\"], image_position[\"xmax\"], image_position[\"ymax\"]]\n",
    "        yolo_box = convert_to_yolo_format(*bbox, img_width=width, img_height=height)\n",
    "\n",
    "        # label\n",
    "        food_lens_top1 = inner_value[\"foodCandidates\"][0]\n",
    "        label = 0 if food_lens_top1['manufacturer'] in [\"\", \"-\"] else 1\n",
    "        \n",
    "        yolo_labels.append(\", \".join([str(x) for x in [label]+yolo_box]))\n",
    "    # print(yolo_labels)\n",
    "    data_dict[img_path] = yolo_labels"
   ]
  },
  {
   "cell_type": "code",
   "execution_count": 32,
   "metadata": {},
   "outputs": [
    {
     "data": {
      "text/plain": [
       "dict_keys(['eatType', 'foodPositionList', 'mealType', 'predictedImagePath', 'version'])"
      ]
     },
     "execution_count": 32,
     "metadata": {},
     "output_type": "execute_result"
    }
   ],
   "source": []
  },
  {
   "cell_type": "code",
   "execution_count": null,
   "metadata": {},
   "outputs": [],
   "source": []
  }
 ],
 "metadata": {
  "kernelspec": {
   "display_name": "py310",
   "language": "python",
   "name": "python3"
  },
  "language_info": {
   "codemirror_mode": {
    "name": "ipython",
    "version": 3
   },
   "file_extension": ".py",
   "mimetype": "text/x-python",
   "name": "python",
   "nbconvert_exporter": "python",
   "pygments_lexer": "ipython3",
   "version": "3.10.14"
  }
 },
 "nbformat": 4,
 "nbformat_minor": 2
}
